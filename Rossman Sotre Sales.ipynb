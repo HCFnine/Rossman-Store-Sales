{
 "cells": [
  {
   "cell_type": "code",
   "execution_count": 2,
   "metadata": {
    "collapsed": true
   },
   "outputs": [
    {
     "name": "stderr",
     "output_type": "stream",
     "text": [
      "C:\\Users\\Cheng Fu\\anaconda3\\lib\\site-packages\\IPython\\core\\interactiveshell.py:3338: DtypeWarning: Columns (7) have mixed types.Specify dtype option on import or set low_memory=False.\n",
      "  if (await self.run_code(code, result,  async_=asy)):\n"
     ]
    }
   ],
   "source": [
    "import pandas as pd\n",
    "import numpy as np\n",
    "import matplotlib.pyplot as plt\n",
    "import seaborn as sns\n",
    "%matplotlib inline\n",
    "\n",
    "# input csv file\n",
    "def open_csv(csv_name):\n",
    "    with open(csv_name) as f:\n",
    "        data = pd.read_csv(f)\n",
    "    return data\n",
    "\n",
    "store = open_csv('store.csv')\n",
    "train = open_csv('train.csv')\n",
    "test = open_csv('test.csv')"
   ]
  },
  {
   "cell_type": "code",
   "execution_count": 25,
   "metadata": {
    "scrolled": false
   },
   "outputs": [
    {
     "name": "stdout",
     "output_type": "stream",
     "text": [
      "*********************store first 3 rows*********************\n",
      "   Store StoreType Assortment  CompetitionDistance  CompetitionOpenSinceMonth  \\\n",
      "0      1         c          a               1270.0                        9.0   \n",
      "1      2         a          a                570.0                       11.0   \n",
      "2      3         a          a              14130.0                       12.0   \n",
      "\n",
      "   CompetitionOpenSinceYear  Promo2  Promo2SinceWeek  Promo2SinceYear  \\\n",
      "0                    2008.0       0              NaN              NaN   \n",
      "1                    2007.0       1             13.0           2010.0   \n",
      "2                    2006.0       1             14.0           2011.0   \n",
      "\n",
      "     PromoInterval  \n",
      "0              NaN  \n",
      "1  Jan,Apr,Jul,Oct  \n",
      "2  Jan,Apr,Jul,Oct  \n",
      "*******************store each row's info********************\n",
      "<class 'pandas.core.frame.DataFrame'>\n",
      "RangeIndex: 1115 entries, 0 to 1114\n",
      "Data columns (total 10 columns):\n",
      " #   Column                     Non-Null Count  Dtype  \n",
      "---  ------                     --------------  -----  \n",
      " 0   Store                      1115 non-null   int64  \n",
      " 1   StoreType                  1115 non-null   object \n",
      " 2   Assortment                 1115 non-null   object \n",
      " 3   CompetitionDistance        1112 non-null   float64\n",
      " 4   CompetitionOpenSinceMonth  761 non-null    float64\n",
      " 5   CompetitionOpenSinceYear   761 non-null    float64\n",
      " 6   Promo2                     1115 non-null   int64  \n",
      " 7   Promo2SinceWeek            571 non-null    float64\n",
      " 8   Promo2SinceYear            571 non-null    float64\n",
      " 9   PromoInterval              571 non-null    object \n",
      "dtypes: float64(5), int64(2), object(3)\n",
      "memory usage: 87.2+ KB\n",
      "None \n",
      " \n",
      "\n",
      "*********************train first 3 rows*********************\n",
      "   Store  DayOfWeek        Date  Sales  Customers  Open  Promo StateHoliday  \\\n",
      "0      1          5  2015-07-31   5263        555     1      1            0   \n",
      "1      2          5  2015-07-31   6064        625     1      1            0   \n",
      "2      3          5  2015-07-31   8314        821     1      1            0   \n",
      "\n",
      "   SchoolHoliday  \n",
      "0              1  \n",
      "1              1  \n",
      "2              1  \n",
      "*******************train each row's info********************\n",
      "<class 'pandas.core.frame.DataFrame'>\n",
      "RangeIndex: 1017209 entries, 0 to 1017208\n",
      "Data columns (total 9 columns):\n",
      " #   Column         Non-Null Count    Dtype \n",
      "---  ------         --------------    ----- \n",
      " 0   Store          1017209 non-null  int64 \n",
      " 1   DayOfWeek      1017209 non-null  int64 \n",
      " 2   Date           1017209 non-null  object\n",
      " 3   Sales          1017209 non-null  int64 \n",
      " 4   Customers      1017209 non-null  int64 \n",
      " 5   Open           1017209 non-null  int64 \n",
      " 6   Promo          1017209 non-null  int64 \n",
      " 7   StateHoliday   1017209 non-null  object\n",
      " 8   SchoolHoliday  1017209 non-null  int64 \n",
      "dtypes: int64(7), object(2)\n",
      "memory usage: 69.8+ MB\n",
      "None \n",
      " \n",
      "\n",
      "*********************test first 3 rows**********************\n",
      "   Id  Store  DayOfWeek        Date  Open  Promo StateHoliday  SchoolHoliday\n",
      "0   1      1          4  2015-09-17   1.0      1            0              0\n",
      "1   2      3          4  2015-09-17   1.0      1            0              0\n",
      "2   3      7          4  2015-09-17   1.0      1            0              0\n",
      "********************test each row's info********************\n",
      "<class 'pandas.core.frame.DataFrame'>\n",
      "RangeIndex: 41088 entries, 0 to 41087\n",
      "Data columns (total 8 columns):\n",
      " #   Column         Non-Null Count  Dtype  \n",
      "---  ------         --------------  -----  \n",
      " 0   Id             41088 non-null  int64  \n",
      " 1   Store          41088 non-null  int64  \n",
      " 2   DayOfWeek      41088 non-null  int64  \n",
      " 3   Date           41088 non-null  object \n",
      " 4   Open           41077 non-null  float64\n",
      " 5   Promo          41088 non-null  int64  \n",
      " 6   StateHoliday   41088 non-null  object \n",
      " 7   SchoolHoliday  41088 non-null  int64  \n",
      "dtypes: float64(1), int64(5), object(2)\n",
      "memory usage: 2.5+ MB\n",
      "None \n",
      " \n",
      "\n"
     ]
    }
   ],
   "source": [
    "#initial check for datas first 3 rows and data info\n",
    "\n",
    "def check_file(data, data_name):\n",
    "    plus_3row = data_name + ' first 3 rows'\n",
    "    print(f'{plus_3row:*^60}')\n",
    "    print(data.head(3))\n",
    "    plus_eachrow = data_name + ' each row\\'s info'\n",
    "    print(f'{plus_eachrow:*^60}')\n",
    "    print(data.info(),'\\n','\\n')\n",
    "\n",
    "datas = [store,train,test]\n",
    "data_names= ['store','train','test']\n",
    "for data, data_name in zip(datas, data_names):\n",
    "    check_file(data, data_name)"
   ]
  },
  {
   "cell_type": "code",
   "execution_count": 30,
   "metadata": {},
   "outputs": [
    {
     "name": "stdout",
     "output_type": "stream",
     "text": [
      "Store unique numbers: 1115\n",
      "StoreType unique numbers: 4\n",
      "Assortment unique numbers: 3\n",
      "CompetitionDistance unique numbers: 655\n",
      "CompetitionOpenSinceMonth unique numbers: 13\n",
      "CompetitionOpenSinceYear unique numbers: 24\n",
      "Promo2 unique numbers: 2\n",
      "Promo2SinceWeek unique numbers: 25\n",
      "Promo2SinceYear unique numbers: 8\n",
      "PromoInterval unique numbers: 4\n"
     ]
    }
   ],
   "source": [
    "#check 'store' each column's situation ex:unique\n",
    "def check_unique(data):\n",
    "    for column in data.columns:\n",
    "        print(f'{column} unique numbers:',len(data[column].unique()))\n",
    "check_unique(store)"
   ]
  },
  {
   "cell_type": "code",
   "execution_count": 38,
   "metadata": {},
   "outputs": [
    {
     "name": "stdout",
     "output_type": "stream",
     "text": [
      "[ 1.  2.  3.  4.  5.  6.  7.  8.  9. 10. 11. 12. nan]\n",
      "[1900. 1961. 1990. 1994. 1995. 1998. 1999. 2000. 2001. 2002. 2003. 2004.\n",
      " 2005. 2006. 2007. 2008. 2009. 2010. 2011. 2012. 2013. 2014. 2015.   nan]\n"
     ]
    }
   ],
   "source": [
    "# we find there are 13 months in competitionopensincemonth\n",
    "\n",
    "print(np.sort(store['CompetitionOpenSinceMonth'].unique()))\n",
    "print(np.sort(store['CompetitionOpenSinceYear'].unique()))"
   ]
  },
  {
   "cell_type": "code",
   "execution_count": 44,
   "metadata": {},
   "outputs": [
    {
     "name": "stdout",
     "output_type": "stream",
     "text": [
      "Store unique numbers: 1115\n",
      "DayOfWeek unique numbers: 7\n",
      "Date unique numbers: 942\n",
      "Sales unique numbers: 21734\n",
      "Customers unique numbers: 4086\n",
      "Open unique numbers: 2\n",
      "Promo unique numbers: 2\n",
      "StateHoliday unique numbers: 5\n",
      "SchoolHoliday unique numbers: 2\n",
      "None\n",
      "--------------------\n",
      "Id unique numbers: 41088\n",
      "Store unique numbers: 856\n",
      "DayOfWeek unique numbers: 7\n",
      "Date unique numbers: 48\n",
      "Open unique numbers: 3\n",
      "Promo unique numbers: 2\n",
      "StateHoliday unique numbers: 2\n",
      "SchoolHoliday unique numbers: 2\n",
      "None\n"
     ]
    }
   ],
   "source": [
    "#check train and test set\n",
    "\n",
    "print(check_unique(train))\n",
    "print('-'*20)\n",
    "print(check_unique(test))"
   ]
  },
  {
   "cell_type": "code",
   "execution_count": 47,
   "metadata": {},
   "outputs": [
    {
     "name": "stdout",
     "output_type": "stream",
     "text": [
      "['0' 'a' 'b' 'c' 0]\n"
     ]
    },
    {
     "data": {
      "text/plain": [
       "array([0, 'a', 'b', 'c'], dtype=object)"
      ]
     },
     "execution_count": 47,
     "metadata": {},
     "output_type": "execute_result"
    }
   ],
   "source": [
    "# we find train set have 5 unique term in 'StateHoliday', but it only have 4 terms according to the question\n",
    "\n",
    "print(train.StateHoliday.unique())\n",
    "\n",
    "# 0 has two type int and string\n",
    "train.StateHoliday=train.StateHoliday.map({'0': 0,0: 0,'a':'a','b':'b','c':'c'})\n",
    "train.StateHoliday.unique()"
   ]
  },
  {
   "cell_type": "code",
   "execution_count": 51,
   "metadata": {},
   "outputs": [
    {
     "data": {
      "text/plain": [
       "1200    86\n",
       "1201    87\n",
       "1202    88\n",
       "1203    89\n",
       "1204    90\n",
       "1205    91\n",
       "1206    92\n",
       "1207    93\n",
       "1208    94\n",
       "1209    95\n",
       "Name: Store, dtype: int64"
      ]
     },
     "execution_count": 51,
     "metadata": {},
     "output_type": "execute_result"
    }
   ],
   "source": []
  }
 ],
 "metadata": {
  "kernelspec": {
   "display_name": "Python 3",
   "language": "python",
   "name": "python3"
  },
  "language_info": {
   "codemirror_mode": {
    "name": "ipython",
    "version": 3
   },
   "file_extension": ".py",
   "mimetype": "text/x-python",
   "name": "python",
   "nbconvert_exporter": "python",
   "pygments_lexer": "ipython3",
   "version": "3.8.5"
  }
 },
 "nbformat": 4,
 "nbformat_minor": 4
}
